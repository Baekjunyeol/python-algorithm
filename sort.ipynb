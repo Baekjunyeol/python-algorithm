{
 "cells": [
  {
   "cell_type": "markdown",
   "id": "8377cc6a-80ea-46bd-931c-f379298b047f",
   "metadata": {},
   "source": [
    "### 삽입 정렬"
   ]
  },
  {
   "cell_type": "code",
   "execution_count": 2,
   "id": "064cff11-2e97-4065-8f93-786a5140aa80",
   "metadata": {},
   "outputs": [
    {
     "name": "stdout",
     "output_type": "stream",
     "text": [
      "삽입 정렬: [1, 2, 3, 4]\n"
     ]
    }
   ],
   "source": [
    "a = [4, 1, 3, 2]\n",
    "\n",
    "for i in range(1, len(a)):\n",
    "    temp = a[i]\n",
    "    j = i - 1\n",
    "    while j >= 0 and a[j] > temp:\n",
    "        a[j + 1] = a[j]\n",
    "        j -= 1\n",
    "    a[j + 1] = temp\n",
    "print(\"삽입 정렬:\", a)"
   ]
  },
  {
   "cell_type": "markdown",
   "id": "7e6e9362-e0e5-4d10-ac1a-54ca7807a328",
   "metadata": {},
   "source": [
    "선택 정렬"
   ]
  },
  {
   "cell_type": "code",
   "execution_count": 3,
   "id": "45c0d51e-0329-42bd-a2f2-13d36cb90dc0",
   "metadata": {},
   "outputs": [
    {
     "name": "stdout",
     "output_type": "stream",
     "text": [
      "선택 정렬: [1, 2, 3, 4]\n"
     ]
    }
   ],
   "source": [
    "a = [4, 1, 3, 2]\n",
    "\n",
    "for i in range(len(a) - 1):\n",
    "    min_index = i\n",
    "    for j in range(i + 1, len(a)):\n",
    "        if a[j] < a[min_index]:\n",
    "            min_index = j\n",
    "    if min_index != i:\n",
    "        a[i], a[min_index] = a[min_index], a[i]\n",
    "print(\"선택 정렬:\", a)\n"
   ]
  },
  {
   "cell_type": "markdown",
   "id": "449dce6b-add8-43eb-b644-02b0e8bdbdfa",
   "metadata": {},
   "source": [
    "### 버블 정렬"
   ]
  },
  {
   "cell_type": "code",
   "execution_count": 1,
   "id": "d0642a37-2b92-445c-b554-e864618e44d0",
   "metadata": {},
   "outputs": [
    {
     "name": "stdout",
     "output_type": "stream",
     "text": [
      "버블 정렬: [1, 2, 3, 4]\n"
     ]
    }
   ],
   "source": [
    "a = [4, 1, 3, 2]\n",
    "\n",
    "for i in range(len(a) - 1):\n",
    "    for j in range(len(a) - i - 1):\n",
    "        if a[j] > a[j + 1]:\n",
    "            a[j], a[j + 1] = a[j + 1], a[j]\n",
    "print(\"버블 정렬:\", a)\n"
   ]
  },
  {
   "cell_type": "code",
   "execution_count": null,
   "id": "25af3fba-2bc3-453b-b05d-4f35aee40c43",
   "metadata": {},
   "outputs": [],
   "source": []
  }
 ],
 "metadata": {
  "kernelspec": {
   "display_name": "Python 3 (ipykernel)",
   "language": "python",
   "name": "python3"
  },
  "language_info": {
   "codemirror_mode": {
    "name": "ipython",
    "version": 3
   },
   "file_extension": ".py",
   "mimetype": "text/x-python",
   "name": "python",
   "nbconvert_exporter": "python",
   "pygments_lexer": "ipython3",
   "version": "3.11.7"
  }
 },
 "nbformat": 4,
 "nbformat_minor": 5
}
